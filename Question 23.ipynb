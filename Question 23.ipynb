{
 "cells": [
  {
   "cell_type": "code",
   "execution_count": 2,
   "id": "35bf1df1",
   "metadata": {},
   "outputs": [
    {
     "name": "stdout",
     "output_type": "stream",
     "text": [
      "f(0,0):\n",
      "*\n",
      "\n",
      "\n",
      "f(0,1):\n",
      "*\n",
      "\n",
      "\n",
      "f(0,2):\n",
      " *\n",
      "**\n",
      " *\n",
      "\n",
      "\n",
      "f(0,4):\n",
      "  *\n",
      " **\n",
      "  *\n",
      "****\n",
      "  *\n",
      " **\n",
      "  *\n"
     ]
    }
   ],
   "source": [
    "\n",
    "def tough(indent, n):\n",
    "    \n",
    "    if n <= 1:\n",
    "        print(' ' * indent + '*')\n",
    "        return\n",
    "\n",
    "    # Recursive step: print the pattern with two fewer stars\n",
    "    tough(indent + 1, n - 2)\n",
    "    \n",
    "    # Print the current line of stars\n",
    "    print(' ' * indent + '*' * n)\n",
    "    \n",
    "    # Recursive step: print the pattern with two fewer stars\n",
    "    tough(indent + 1, n - 2)\n",
    "\n",
    "# Testing the function with examples provided\n",
    "print(\"f(0,0):\")\n",
    "tough(0, 0)\n",
    "print(\"\\n\")\n",
    "\n",
    "print(\"f(0,1):\")\n",
    "tough(0, 1)\n",
    "print(\"\\n\")\n",
    "\n",
    "print(\"f(0,2):\")\n",
    "tough(0, 2)\n",
    "print(\"\\n\")\n",
    "\n",
    "print(\"f(0,4):\")\n",
    "tough(0, 4)\n"
   ]
  },
  {
   "cell_type": "code",
   "execution_count": null,
   "id": "98e4f7ba",
   "metadata": {},
   "outputs": [],
   "source": []
  }
 ],
 "metadata": {
  "kernelspec": {
   "display_name": "Python 3 (ipykernel)",
   "language": "python",
   "name": "python3"
  },
  "language_info": {
   "codemirror_mode": {
    "name": "ipython",
    "version": 3
   },
   "file_extension": ".py",
   "mimetype": "text/x-python",
   "name": "python",
   "nbconvert_exporter": "python",
   "pygments_lexer": "ipython3",
   "version": "3.11.5"
  }
 },
 "nbformat": 4,
 "nbformat_minor": 5
}
