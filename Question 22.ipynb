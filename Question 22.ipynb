{
 "cells": [
  {
   "cell_type": "code",
   "execution_count": 6,
   "id": "dc7c34a4",
   "metadata": {},
   "outputs": [
    {
     "name": "stdout",
     "output_type": "stream",
     "text": [
      "   id\n",
      "1   2\n",
      "3   4\n"
     ]
    }
   ],
   "source": [
    "#Solution with Python\n",
    "\n",
    "import pandas as pd             #pandas for data manipulation and comparison\n",
    "from datetime import timedelta   \n",
    "\n",
    "# Create the DataFrame\n",
    "data = {\n",
    "    'id': [1, 2, 3, 4],\n",
    "    'recordDate': ['2015-01-01', '2015-01-02', '2015-01-03', '2015-01-04'],\n",
    "    'temperature': [10, 25, 20, 30]\n",
    "}\n",
    "df = pd.DataFrame(data)\n",
    "df['recordDate'] = pd.to_datetime(df['recordDate']) #coverting recorddate to determine\n",
    "\n",
    "# Solution to find dates with higher temperatures compared to the previous day\n",
    "# Find rows with temperatures higher than the previous day's\n",
    "df['prev_temp'] = df['temperature'].shift(1)\n",
    "result_df = df[df['temperature'] > df['prev_temp']]\n",
    "\n",
    "# Display results\n",
    "print(result_df[['id']])\n"
   ]
  },
  {
   "cell_type": "code",
   "execution_count": 8,
   "id": "4d3f22a3",
   "metadata": {},
   "outputs": [
    {
     "name": "stdout",
     "output_type": "stream",
     "text": [
      "[(2,), (4,)]\n"
     ]
    }
   ],
   "source": [
    "import sqlite3\n",
    "\n",
    "# Connecting to a SQLite database (in-memory)\n",
    "conn = sqlite3.connect(':memory:')\n",
    "cursor = conn.cursor()\n",
    "\n",
    "# Creating the table\n",
    "cursor.execute('''\n",
    "CREATE TABLE Weather (\n",
    "    id INTEGER,\n",
    "    recordDate DATE,\n",
    "    temperature INTEGER\n",
    ")\n",
    "''')\n",
    "\n",
    "# Inserting the data\n",
    "weather_data = [\n",
    "    (1, '2015-01-01', 10),\n",
    "    (2, '2015-01-02', 25),\n",
    "    (3, '2015-01-03', 20),\n",
    "    (4, '2015-01-04', 30)\n",
    "]\n",
    "cursor.executemany('INSERT INTO Weather (id, recordDate, temperature) VALUES (?, ?, ?)', weather_data)\n",
    "conn.commit()\n",
    "\n",
    "# SQL Query to find the desired result\n",
    "sql_query = '''\n",
    "SELECT W1.id\n",
    "FROM Weather W1\n",
    "JOIN Weather W2 ON W1.recordDate = date(W2.recordDate, '+1 day')\n",
    "WHERE W1.temperature > W2.temperature\n",
    "'''\n",
    "\n",
    "cursor.execute(sql_query)\n",
    "print(cursor.fetchall())\n",
    "\n",
    "conn.close()\n"
   ]
  },
  {
   "cell_type": "code",
   "execution_count": null,
   "id": "5e767d98",
   "metadata": {},
   "outputs": [],
   "source": []
  }
 ],
 "metadata": {
  "kernelspec": {
   "display_name": "Python 3 (ipykernel)",
   "language": "python",
   "name": "python3"
  },
  "language_info": {
   "codemirror_mode": {
    "name": "ipython",
    "version": 3
   },
   "file_extension": ".py",
   "mimetype": "text/x-python",
   "name": "python",
   "nbconvert_exporter": "python",
   "pygments_lexer": "ipython3",
   "version": "3.11.5"
  }
 },
 "nbformat": 4,
 "nbformat_minor": 5
}
