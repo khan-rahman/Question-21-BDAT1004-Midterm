{
 "cells": [
  {
   "cell_type": "code",
   "execution_count": 1,
   "id": "a8db0b89",
   "metadata": {},
   "outputs": [
    {
     "name": "stdout",
     "output_type": "stream",
     "text": [
      "Length of the segment: 5.0\n",
      "Slope of the segment: 1.3333333333333333\n"
     ]
    }
   ],
   "source": [
    "# Define the Point class\n",
    "class Point:\n",
    "    def __init__(self, x=0, y=0):\n",
    "        self.x = x\n",
    "        self.y = y\n",
    "\n",
    "# Define the Segment class\n",
    "class Segment:\n",
    "    def __init__(self, p1, p2):\n",
    "        self.p1 = p1\n",
    "        self.p2 = p2\n",
    "    \n",
    "    def length(self):\n",
    "        return ((self.p1.x - self.p2.x) ** 2 + (self.p1.y - self.p2.y) ** 2) ** 0.5\n",
    "    \n",
    "    def slope(self):\n",
    "        try:\n",
    "            return (self.p2.y - self.p1.y) / (self.p2.x - self.p1.x)\n",
    "        except ZeroDivisionError:\n",
    "            return None  # Slope is unbounded\n",
    "\n",
    "# Testing the implementation\n",
    "p1 = Point(3, 4)\n",
    "p2 = Point(0, 0)  # Assuming default values are meant to represent the origin (0, 0)\n",
    "s = Segment(p1, p2)\n",
    "\n",
    "length_result = s.length()\n",
    "slope_result = s.slope()\n",
    "print(f'Length of the segment: {length_result}')\n",
    "print(f'Slope of the segment: {slope_result}')\n",
    "\n"
   ]
  },
  {
   "cell_type": "code",
   "execution_count": null,
   "id": "910869f0",
   "metadata": {},
   "outputs": [],
   "source": []
  }
 ],
 "metadata": {
  "kernelspec": {
   "display_name": "Python 3 (ipykernel)",
   "language": "python",
   "name": "python3"
  },
  "language_info": {
   "codemirror_mode": {
    "name": "ipython",
    "version": 3
   },
   "file_extension": ".py",
   "mimetype": "text/x-python",
   "name": "python",
   "nbconvert_exporter": "python",
   "pygments_lexer": "ipython3",
   "version": "3.11.5"
  }
 },
 "nbformat": 4,
 "nbformat_minor": 5
}
